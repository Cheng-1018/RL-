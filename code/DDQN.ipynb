{
 "cells": [
  {
   "cell_type": "markdown",
   "id": "b3e2219a",
   "metadata": {},
   "source": [
    "用DDQN解决棍子摇摆问题\n",
    "\n",
    "DQN伪代码：\n",
    "\n",
    "<div align='center'>\n",
    "<img src=\"../images/c5/DQN.png\" alt=\"Q学习\" width=\"400\">\n",
    "</div>\n",
    "\n",
    "DDQN目标是： $Q(s_{i},a_{i}) \\longleftrightarrow r_{i} + \\hat{Q}(s_{i+1},\\arg \\max_{a}Q(s_{i+1},a))$\n",
    "\n",
    "首先要初始化俩个相同参数的网络 $Q$ 和 $\\hat Q$ ,这个网络的输入是状态，输出对应每个动作的 $Q$ 值。"
   ]
  },
  {
   "cell_type": "code",
   "execution_count": 29,
   "id": "4a006cfc",
   "metadata": {},
   "outputs": [],
   "source": [
    "import torch\n",
    "import torch.nn as nn\n",
    "import torch.optim as optim\n",
    "import numpy as np\n",
    "import random\n",
    "from collections import deque\n",
    "\n",
    "class cfg():\n",
    "    \"\"\"配置类，存储所有超参数\"\"\"\n",
    "    max_episodes = 1000          # 最大训练episode数\n",
    "    max_steps = 200            # 每个episode的最大步数\n",
    "    batch_size = 64            # 批量大小\n",
    "    learning_rate = 0.001      # 学习率\n",
    "    gamma = 0.99               # 折扣因子\n",
    "    epsilon_start = 1.0        # 初始探索率\n",
    "    epsilon_end = 0.01         # 最终探索率\n",
    "    epsilon_decay = 0.995      # 探索率衰减\n",
    "    target_update = 10         # 目标网络更新频率\n",
    "    memory_size = 10000        # 经验回放缓冲区大小\n",
    "    hidden_dim = 128           # 隐藏层维度\n",
    "    device = torch.device(\"cuda\" if torch.cuda.is_available() else \"cpu\")"
   ]
  },
  {
   "cell_type": "code",
   "execution_count": 30,
   "id": "4c5ac220",
   "metadata": {},
   "outputs": [],
   "source": [
    "class Net(nn.Module):\n",
    "    \"\"\"深度Q网络 - 使用全连接层\"\"\"\n",
    "    def __init__(self, input_dim, output_dim, hidden_dim=128):\n",
    "        super(Net, self).__init__()\n",
    "        self.fc1 = nn.Linear(input_dim, hidden_dim)\n",
    "        self.fc2 = nn.Linear(hidden_dim, hidden_dim)\n",
    "        self.fc3 = nn.Linear(hidden_dim, output_dim)\n",
    "        \n",
    "    def forward(self, x):\n",
    "        x = torch.relu(self.fc1(x))\n",
    "        x = torch.relu(self.fc2(x))\n",
    "        x = self.fc3(x)\n",
    "        return x\n",
    "\n",
    "class ReplayBuffer:\n",
    "    \"\"\"经验回放缓冲区\"\"\"\n",
    "    def __init__(self, capacity):\n",
    "        self.buffer = deque(maxlen=capacity)\n",
    "    \n",
    "    def push(self, state, action, reward, next_state, done):\n",
    "        \"\"\"存储一个transition\"\"\"\n",
    "        self.buffer.append((state, action, reward, next_state, done))\n",
    "    \n",
    "    def sample(self, batch_size):\n",
    "        \"\"\"随机采样batch_size个transition\"\"\"\n",
    "        batch = random.sample(self.buffer, batch_size)\n",
    "        state, action, reward, next_state, done = zip(*batch)\n",
    "        return (np.array(state), np.array(action), np.array(reward), \n",
    "                np.array(next_state), np.array(done))\n",
    "    \n",
    "    def __len__(self):\n",
    "        return len(self.buffer)"
   ]
  },
  {
   "cell_type": "code",
   "execution_count": 31,
   "id": "fb81c748",
   "metadata": {},
   "outputs": [],
   "source": [
    "class DQNAgent():    \n",
    "    def __init__(self, state_dim, action_dim, cfg):\n",
    "        self.state_dim = state_dim\n",
    "        self.action_dim = action_dim\n",
    "        self.device = cfg.device\n",
    "        \n",
    "        # 网络初始化\n",
    "        self.policy_net = Net(state_dim, action_dim, cfg.hidden_dim).to(self.device)\n",
    "        self.target_net = Net(state_dim, action_dim, cfg.hidden_dim).to(self.device)\n",
    "        \n",
    "        # 复制参数到目标网络\n",
    "        self.target_net.load_state_dict(self.policy_net.state_dict())\n",
    "        \n",
    "        # 优化器\n",
    "        self.optimizer = optim.Adam(self.policy_net.parameters(), lr=cfg.learning_rate)\n",
    "        \n",
    "        # 经验回放\n",
    "        self.memory = ReplayBuffer(cfg.memory_size)\n",
    "        \n",
    "        # 探索参数\n",
    "        self.epsilon = cfg.epsilon_start\n",
    "        self.epsilon_end = cfg.epsilon_end\n",
    "        self.epsilon_decay = cfg.epsilon_decay\n",
    "        \n",
    "        # 其他参数\n",
    "        self.batch_size = cfg.batch_size\n",
    "        self.gamma = cfg.gamma\n",
    "        \n",
    "    def select_action(self, state,test=False):\n",
    "        \"\"\"选择动作 - epsilon贪心策略\"\"\"\n",
    "        if random.random() < self.epsilon and not test:\n",
    "            return random.randrange(self.action_dim)\n",
    "        else:\n",
    "            with torch.no_grad():\n",
    "                state = torch.FloatTensor(state).unsqueeze(0).to(self.device)\n",
    "                q_values = self.policy_net(state)\n",
    "                return q_values.argmax().item()\n",
    "    \n",
    "    def update(self):\n",
    "        \"\"\"更新网络\"\"\"\n",
    "        if len(self.memory) < self.batch_size:\n",
    "            return\n",
    "        \n",
    "        # 从经验回放中采样\n",
    "        states, actions, rewards, next_states, dones = self.memory.sample(self.batch_size)\n",
    "        \n",
    "        # 转换为tensor\n",
    "        states = torch.FloatTensor(states).to(self.device)\n",
    "        actions = torch.LongTensor(actions).to(self.device)\n",
    "        rewards = torch.FloatTensor(rewards).to(self.device)\n",
    "        next_states = torch.FloatTensor(next_states).to(self.device)\n",
    "        dones = torch.BoolTensor(dones).to(self.device)\n",
    "        \n",
    "        # 当前Q值\n",
    "        current_q_values = self.policy_net(states).gather(1, actions.unsqueeze(1))\n",
    "        \n",
    "        # 计算目标Q值 (DDQN)\n",
    "        with torch.no_grad():\n",
    "            # 使用policy网络选择动作\n",
    "            next_actions = self.policy_net(next_states).argmax(1).unsqueeze(1)\n",
    "            # 使用target网络评估Q值\n",
    "            next_q_values = self.target_net(next_states).gather(1, next_actions)\n",
    "            target_q_values = rewards.unsqueeze(1) + (self.gamma * next_q_values * ~dones.unsqueeze(1))\n",
    "        \n",
    "        # 计算损失\n",
    "        loss = nn.MSELoss()(current_q_values, target_q_values)\n",
    "        \n",
    "        # 优化\n",
    "        self.optimizer.zero_grad()\n",
    "        loss.backward()\n",
    "        # 梯度裁剪\n",
    "        torch.nn.utils.clip_grad_norm_(self.policy_net.parameters(), 1.0)\n",
    "        self.optimizer.step()\n",
    "        \n",
    "        # 衰减epsilon\n",
    "        if self.epsilon > self.epsilon_end:\n",
    "            self.epsilon *= self.epsilon_decay"
   ]
  },
  {
   "cell_type": "code",
   "execution_count": 32,
   "id": "ef32dfa5",
   "metadata": {},
   "outputs": [
    {
     "name": "stdout",
     "output_type": "stream",
     "text": [
      "状态维度: 4\n",
      "动作维度: 2\n",
      "状态空间: Box([-4.8               -inf -0.41887903        -inf], [4.8               inf 0.41887903        inf], (4,), float32)\n",
      "动作空间: Discrete(2)\n",
      "\n",
      "初始观测: [ 0.01680424 -0.03111739 -0.01558775  0.04998405]\n",
      "观测形状: (4,)\n",
      "执行动作 1 后:\n",
      "新观测: [ 0.01618189  0.16422457 -0.01458807 -0.2475759 ]\n",
      "奖励: 1.0\n",
      "是否结束: False\n",
      "\n",
      "智能体初始化完成!\n",
      "使用设备: cpu\n",
      "初始探索率: 1.0\n",
      "经验回放缓冲区容量: 0\n"
     ]
    }
   ],
   "source": [
    "import gymnasium as gym\n",
    "import warnings\n",
    "warnings.filterwarnings(\"ignore\", category=UserWarning, module=\"pygame.pkgdata\")\n",
    "\n",
    "# 创建环境\n",
    "env = gym.make('CartPole-v1') \n",
    "n_states = env.observation_space.shape[0]  # 状态维度\n",
    "n_actions = env.action_space.n  # 动作维度\n",
    "\n",
    "print(\"状态维度:\", n_states)\n",
    "print(\"动作维度:\", n_actions)\n",
    "print(\"状态空间:\", env.observation_space)\n",
    "print(\"动作空间:\", env.action_space)\n",
    "\n",
    "# 测试环境\n",
    "obs, info = env.reset()\n",
    "print(\"\\n初始观测:\", obs)\n",
    "print(\"观测形状:\", obs.shape)\n",
    "\n",
    "action = env.action_space.sample()\n",
    "obs, reward, terminated, truncated, info = env.step(action)\n",
    "print(\"执行动作\", action, \"后:\")\n",
    "print(\"新观测:\", obs)\n",
    "print(\"奖励:\", reward)\n",
    "print(\"是否结束:\", terminated or truncated)\n",
    "\n",
    "# 初始化智能体\n",
    "cfg = cfg()\n",
    "agent = DQNAgent(n_states, n_actions, cfg)\n",
    "print(f\"\\n智能体初始化完成!\")\n",
    "print(f\"使用设备: {cfg.device}\")\n",
    "print(f\"初始探索率: {agent.epsilon}\")\n",
    "print(f\"经验回放缓冲区容量: {len(agent.memory)}\")"
   ]
  },
  {
   "cell_type": "code",
   "execution_count": 33,
   "id": "7158f03a",
   "metadata": {},
   "outputs": [
    {
     "name": "stdout",
     "output_type": "stream",
     "text": [
      "开始训练DDQN智能体...\n",
      "训练参数: episodes=1000, batch_size=64, lr=0.001\n"
     ]
    },
    {
     "name": "stderr",
     "output_type": "stream",
     "text": [
      "训练进度:   5%|▌         | 50/1000 [00:03<02:48,  5.63it/s]"
     ]
    },
    {
     "name": "stdout",
     "output_type": "stream",
     "text": [
      "Episode: 50, 平均奖励: 44.64, 步数: 114, 探索率: 0.010\n"
     ]
    },
    {
     "name": "stderr",
     "output_type": "stream",
     "text": [
      "训练进度:  10%|█         | 100/1000 [00:19<04:18,  3.48it/s]"
     ]
    },
    {
     "name": "stdout",
     "output_type": "stream",
     "text": [
      "Episode: 100, 平均奖励: 177.94, 步数: 164, 探索率: 0.010\n"
     ]
    },
    {
     "name": "stderr",
     "output_type": "stream",
     "text": [
      "训练进度:  15%|█▍        | 149/1000 [00:35<03:41,  3.84it/s]"
     ]
    },
    {
     "name": "stdout",
     "output_type": "stream",
     "text": [
      "Episode: 150, 平均奖励: 177.26, 步数: 31, 探索率: 0.010\n"
     ]
    },
    {
     "name": "stderr",
     "output_type": "stream",
     "text": [
      "训练进度:  20%|██        | 200/1000 [00:46<03:16,  4.07it/s]"
     ]
    },
    {
     "name": "stdout",
     "output_type": "stream",
     "text": [
      "Episode: 200, 平均奖励: 136.22, 步数: 158, 探索率: 0.010\n"
     ]
    },
    {
     "name": "stderr",
     "output_type": "stream",
     "text": [
      "训练进度:  25%|██▌       | 250/1000 [01:00<03:52,  3.23it/s]"
     ]
    },
    {
     "name": "stdout",
     "output_type": "stream",
     "text": [
      "Episode: 250, 平均奖励: 166.40, 步数: 200, 探索率: 0.010\n"
     ]
    },
    {
     "name": "stderr",
     "output_type": "stream",
     "text": [
      "训练进度:  30%|███       | 300/1000 [01:14<03:09,  3.69it/s]"
     ]
    },
    {
     "name": "stdout",
     "output_type": "stream",
     "text": [
      "Episode: 300, 平均奖励: 155.24, 步数: 172, 探索率: 0.010\n"
     ]
    },
    {
     "name": "stderr",
     "output_type": "stream",
     "text": [
      "训练进度:  35%|███▌      | 350/1000 [01:29<03:46,  2.87it/s]"
     ]
    },
    {
     "name": "stdout",
     "output_type": "stream",
     "text": [
      "Episode: 350, 平均奖励: 182.16, 步数: 200, 探索率: 0.010\n"
     ]
    },
    {
     "name": "stderr",
     "output_type": "stream",
     "text": [
      "训练进度:  40%|████      | 400/1000 [01:45<03:27,  2.89it/s]"
     ]
    },
    {
     "name": "stdout",
     "output_type": "stream",
     "text": [
      "Episode: 400, 平均奖励: 193.04, 步数: 200, 探索率: 0.010\n"
     ]
    },
    {
     "name": "stderr",
     "output_type": "stream",
     "text": [
      "训练进度:  45%|████▌     | 450/1000 [02:02<02:30,  3.66it/s]"
     ]
    },
    {
     "name": "stdout",
     "output_type": "stream",
     "text": [
      "Episode: 450, 平均奖励: 192.74, 步数: 200, 探索率: 0.010\n"
     ]
    },
    {
     "name": "stderr",
     "output_type": "stream",
     "text": [
      "训练进度:  50%|████▉     | 499/1000 [02:17<02:09,  3.86it/s]"
     ]
    },
    {
     "name": "stdout",
     "output_type": "stream",
     "text": [
      "Episode: 500, 平均奖励: 182.82, 步数: 54, 探索率: 0.010\n"
     ]
    },
    {
     "name": "stderr",
     "output_type": "stream",
     "text": [
      "训练进度:  55%|█████▌    | 551/1000 [02:31<01:43,  4.34it/s]"
     ]
    },
    {
     "name": "stdout",
     "output_type": "stream",
     "text": [
      "Episode: 550, 平均奖励: 148.88, 步数: 135, 探索率: 0.010\n"
     ]
    },
    {
     "name": "stderr",
     "output_type": "stream",
     "text": [
      "训练进度:  60%|██████    | 600/1000 [02:43<02:05,  3.19it/s]"
     ]
    },
    {
     "name": "stdout",
     "output_type": "stream",
     "text": [
      "Episode: 600, 平均奖励: 146.14, 步数: 197, 探索率: 0.010\n"
     ]
    },
    {
     "name": "stderr",
     "output_type": "stream",
     "text": [
      "训练进度:  65%|██████▌   | 650/1000 [02:58<01:52,  3.10it/s]"
     ]
    },
    {
     "name": "stdout",
     "output_type": "stream",
     "text": [
      "Episode: 650, 平均奖励: 165.06, 步数: 200, 探索率: 0.010\n"
     ]
    },
    {
     "name": "stderr",
     "output_type": "stream",
     "text": [
      "训练进度:  70%|███████   | 700/1000 [03:13<01:41,  2.95it/s]"
     ]
    },
    {
     "name": "stdout",
     "output_type": "stream",
     "text": [
      "Episode: 700, 平均奖励: 175.44, 步数: 200, 探索率: 0.010\n"
     ]
    },
    {
     "name": "stderr",
     "output_type": "stream",
     "text": [
      "训练进度:  75%|███████▌  | 750/1000 [03:29<00:55,  4.50it/s]"
     ]
    },
    {
     "name": "stdout",
     "output_type": "stream",
     "text": [
      "Episode: 750, 平均奖励: 182.90, 步数: 107, 探索率: 0.010\n"
     ]
    },
    {
     "name": "stderr",
     "output_type": "stream",
     "text": [
      "训练进度:  80%|████████  | 802/1000 [03:43<00:28,  6.89it/s]"
     ]
    },
    {
     "name": "stdout",
     "output_type": "stream",
     "text": [
      "Episode: 800, 平均奖励: 144.04, 步数: 60, 探索率: 0.010\n"
     ]
    },
    {
     "name": "stderr",
     "output_type": "stream",
     "text": [
      "训练进度:  85%|████████▌ | 850/1000 [03:58<00:55,  2.69it/s]"
     ]
    },
    {
     "name": "stdout",
     "output_type": "stream",
     "text": [
      "Episode: 850, 平均奖励: 166.32, 步数: 200, 探索率: 0.010\n"
     ]
    },
    {
     "name": "stderr",
     "output_type": "stream",
     "text": [
      "训练进度:  90%|█████████ | 900/1000 [04:17<00:37,  2.68it/s]"
     ]
    },
    {
     "name": "stdout",
     "output_type": "stream",
     "text": [
      "Episode: 900, 平均奖励: 200.00, 步数: 200, 探索率: 0.010\n"
     ]
    },
    {
     "name": "stderr",
     "output_type": "stream",
     "text": [
      "训练进度:  95%|█████████▌| 950/1000 [04:36<00:14,  3.36it/s]"
     ]
    },
    {
     "name": "stdout",
     "output_type": "stream",
     "text": [
      "Episode: 950, 平均奖励: 194.36, 步数: 103, 探索率: 0.010\n"
     ]
    },
    {
     "name": "stderr",
     "output_type": "stream",
     "text": [
      "训练进度: 100%|██████████| 1000/1000 [04:52<00:00,  3.42it/s]\n"
     ]
    },
    {
     "name": "stdout",
     "output_type": "stream",
     "text": [
      "Episode: 1000, 平均奖励: 188.24, 步数: 200, 探索率: 0.010\n",
      "训练完成!\n"
     ]
    },
    {
     "data": {
      "image/png": "[encoded data removed]",
      "text/plain": [
       "<Figure size 1200x400 with 3 Axes>"
      ]
     },
     "metadata": {},
     "output_type": "display_data"
    }
   ],
   "source": [
    "import matplotlib.pyplot as plt\n",
    "from tqdm import tqdm\n",
    "\n",
    "# 训练DDQN智能体\n",
    "rewards = [] # 记录总的rewards\n",
    "moving_average_rewards = [] # 记录总的经滑动平均处理后的rewards\n",
    "ep_steps = []\n",
    "\n",
    "print(\"开始训练DDQN智能体...\")\n",
    "print(f\"训练参数: episodes={cfg.max_episodes}, batch_size={cfg.batch_size}, lr={cfg.learning_rate}\")\n",
    "\n",
    "for i_episode in tqdm(range(1, cfg.max_episodes+1), desc=\"训练进度\"):\n",
    "    obs, info = env.reset() # reset环境状态\n",
    "    ep_reward = 0\n",
    "    \n",
    "    for i_step in range(1, cfg.max_steps+1):\n",
    "        action = agent.select_action(obs) # 根据当前环境state选择action\n",
    "        next_obs, reward, terminated, truncated, info = env.step(action) # 更新环境参数\n",
    "        done = terminated or truncated\n",
    "        \n",
    "        ep_reward += reward\n",
    "        agent.memory.push(obs, action, reward, next_obs, done) # 将transition存入memory\n",
    "        obs = next_obs # 跳转到下一个状态\n",
    "        \n",
    "        agent.update() # 每步更新网络\n",
    "        \n",
    "        if done:\n",
    "            break\n",
    "    \n",
    "    # 更新target network，复制policy_net中的所有weights and biases\n",
    "    if i_episode % cfg.target_update == 0:\n",
    "        agent.target_net.load_state_dict(agent.policy_net.state_dict())\n",
    "    \n",
    "    # 记录训练信息\n",
    "    ep_steps.append(i_step)\n",
    "    rewards.append(ep_reward)\n",
    "    \n",
    "    # 计算滑动窗口的reward\n",
    "    if i_episode == 1:\n",
    "        moving_average_rewards.append(ep_reward)\n",
    "    else:\n",
    "        moving_average_rewards.append(0.9*moving_average_rewards[-1] + 0.1*ep_reward)\n",
    "    \n",
    "    # 每50个episode打印一次信息\n",
    "    if i_episode % 50 == 0:\n",
    "        avg_reward = np.mean(rewards[-50:])\n",
    "        print(f'Episode: {i_episode}, 平均奖励: {avg_reward:.2f}, 步数: {i_step}, 探索率: {agent.epsilon:.3f}')\n",
    "\n",
    "print(\"训练完成!\")\n",
    "\n",
    "# 绘制训练结果\n",
    "plt.figure(figsize=(12, 4))\n",
    "\n",
    "plt.subplot(1, 3, 1)\n",
    "plt.plot(rewards)\n",
    "plt.title('Episode Rewards')\n",
    "plt.xlabel('Episode')\n",
    "plt.ylabel('Reward')\n",
    "\n",
    "plt.subplot(1, 3, 2)\n",
    "plt.plot(moving_average_rewards)\n",
    "plt.title('Moving Average Rewards')\n",
    "plt.xlabel('Episode')\n",
    "plt.ylabel('Average Reward')\n",
    "\n",
    "plt.subplot(1, 3, 3)\n",
    "plt.plot(ep_steps)\n",
    "plt.title('Episode Steps')\n",
    "plt.xlabel('Episode')\n",
    "plt.ylabel('Steps')\n",
    "\n",
    "plt.tight_layout()\n",
    "plt.show()"
   ]
  },
  {
   "cell_type": "code",
   "execution_count": 35,
   "id": "d6819b13",
   "metadata": {},
   "outputs": [
    {
     "name": "stdout",
     "output_type": "stream",
     "text": [
      "开始测试DDQN智能体...\n",
      "注意：测试时不会进行探索，使用纯贪心策略\n"
     ]
    },
    {
     "name": "stderr",
     "output_type": "stream",
     "text": [
      "测试回合:  25%|██▌       | 1/4 [00:08<00:25,  8.55s/it]"
     ]
    },
    {
     "name": "stdout",
     "output_type": "stream",
     "text": [
      "测试回合 1: 奖励=200.0, 步数=200\n"
     ]
    },
    {
     "name": "stderr",
     "output_type": "stream",
     "text": [
      "测试回合:  50%|█████     | 2/4 [00:17<00:17,  8.52s/it]"
     ]
    },
    {
     "name": "stdout",
     "output_type": "stream",
     "text": [
      "测试回合 2: 奖励=200.0, 步数=200\n"
     ]
    },
    {
     "name": "stderr",
     "output_type": "stream",
     "text": [
      "测试回合:  75%|███████▌  | 3/4 [00:25<00:08,  8.52s/it]"
     ]
    },
    {
     "name": "stdout",
     "output_type": "stream",
     "text": [
      "测试回合 3: 奖励=200.0, 步数=200\n"
     ]
    },
    {
     "name": "stderr",
     "output_type": "stream",
     "text": [
      "测试回合: 100%|██████████| 4/4 [00:34<00:00,  8.52s/it]"
     ]
    },
    {
     "name": "stdout",
     "output_type": "stream",
     "text": [
      "测试回合 4: 奖励=200.0, 步数=200\n",
      "\n",
      "测试完成!\n",
      "平均奖励: 200.00\n",
      "平均步数: 200.00\n",
      "最高奖励: 200.0\n",
      "最低奖励: 200.0\n"
     ]
    },
    {
     "name": "stderr",
     "output_type": "stream",
     "text": [
      "\n"
     ]
    },
    {
     "data": {
      "image/png": "[encoded data removed]",
      "text/plain": [
       "<Figure size 1200x400 with 2 Axes>"
      ]
     },
     "metadata": {},
     "output_type": "display_data"
    }
   ],
   "source": [
    "# 测试训练好的DDQN智能体\n",
    "import time\n",
    "\n",
    "# 重新创建带渲染的环境\n",
    "test_env = gym.make('CartPole-v1', render_mode='human') \n",
    "test_rewards = [] # 记录测试奖励\n",
    "test_steps = []\n",
    "\n",
    "print(\"开始测试DDQN智能体...\")\n",
    "print(\"注意：测试时不会进行探索，使用纯贪心策略\")\n",
    "\n",
    "for i_episode in tqdm(range(1, 5), desc=\"测试回合\"):  # 减少测试回合数\n",
    "    obs, info = test_env.reset() # reset环境状态\n",
    "    ep_reward = 0\n",
    "    \n",
    "    for i_step in range(1, cfg.max_steps+1):\n",
    "        # 测试时使用贪心策略（test=True）\n",
    "        action = agent.select_action(obs,test=True) \n",
    "        next_obs, reward, terminated, truncated, info = test_env.step(action)\n",
    "        done = terminated or truncated\n",
    "        \n",
    "        # 正确的渲染方式\n",
    "        test_env.render()\n",
    "        time.sleep(0.02)  # 稍微减慢速度以便观看\n",
    "        \n",
    "        ep_reward += reward\n",
    "        obs = next_obs # 跳转到下一个状态\n",
    "        \n",
    "        if done:\n",
    "            break\n",
    "    \n",
    "    # 记录测试信息\n",
    "    test_steps.append(i_step)\n",
    "    test_rewards.append(ep_reward)\n",
    "    print(f\"测试回合 {i_episode}: 奖励={ep_reward:.1f}, 步数={i_step}\")\n",
    "\n",
    "test_env.close()\n",
    "\n",
    "# 显示测试结果统计\n",
    "print(f\"\\n测试完成!\")\n",
    "print(f\"平均奖励: {np.mean(test_rewards):.2f}\")\n",
    "print(f\"平均步数: {np.mean(test_steps):.2f}\")\n",
    "print(f\"最高奖励: {max(test_rewards)}\")\n",
    "print(f\"最低奖励: {min(test_rewards)}\")\n",
    "\n",
    "# 绘制测试结果\n",
    "plt.figure(figsize=(12, 4))\n",
    "\n",
    "plt.subplot(1, 2, 1)\n",
    "plt.plot(test_rewards, 'o-')\n",
    "plt.title('Test Episode Rewards')\n",
    "plt.xlabel('Episode')\n",
    "plt.ylabel('Reward')\n",
    "plt.grid(True)\n",
    "\n",
    "plt.subplot(1, 2, 2)\n",
    "plt.plot(test_steps, 'o-')\n",
    "plt.title('Test Episode Steps')\n",
    "plt.xlabel('Episode')\n",
    "plt.ylabel('Steps')\n",
    "plt.grid(True)\n",
    "\n",
    "plt.tight_layout()\n",
    "plt.show()"
   ]
  }
 ],
 "metadata": {
  "kernelspec": {
   "display_name": "RL",
   "language": "python",
   "name": "python3"
  },
  "language_info": {
   "codemirror_mode": {
    "name": "ipython",
    "version": 3
   },
   "file_extension": ".py",
   "mimetype": "text/x-python",
   "name": "python",
   "nbconvert_exporter": "python",
   "pygments_lexer": "ipython3",
   "version": "3.12.12"
  }
 },
 "nbformat": 4,
 "nbformat_minor": 5
}
